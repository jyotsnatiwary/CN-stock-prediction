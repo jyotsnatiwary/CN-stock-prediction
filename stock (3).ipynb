{
  "nbformat": 4,
  "nbformat_minor": 0,
  "metadata": {
    "kernelspec": {
      "display_name": "Python 3",
      "language": "python",
      "name": "python3"
    },
    "language_info": {
      "codemirror_mode": {
        "name": "ipython",
        "version": 3
      },
      "file_extension": ".py",
      "mimetype": "text/x-python",
      "name": "python",
      "nbconvert_exporter": "python",
      "pygments_lexer": "ipython3",
      "version": "3.7.3"
    },
    "colab": {
      "name": "stock.ipynb",
      "provenance": [],
      "collapsed_sections": []
    }
  },
  "cells": [
    {
      "cell_type": "code",
      "metadata": {
        "id": "Ay1V-cBeKApW",
        "colab_type": "code",
        "colab": {}
      },
      "source": [
        "import pandas as pd\n",
        "import numpy as np\n",
        "\n",
        "%matplotlib inline\n",
        "import matplotlib.pyplot as plt"
      ],
      "execution_count": 0,
      "outputs": []
    },
    {
      "cell_type": "code",
      "metadata": {
        "id": "WZK6ObZzKApb",
        "colab_type": "code",
        "colab": {}
      },
      "source": [
        "df = pd.read_csv('CSV (8).csv')\n",
        "#This will convert the date which otherwise would hve been a string to a date time object.  We will now get a date-time ind"
      ],
      "execution_count": 0,
      "outputs": []
    },
    {
      "cell_type": "code",
      "metadata": {
        "id": "zC6nZSdtKApg",
        "colab_type": "code",
        "colab": {
          "base_uri": "https://localhost:8080/",
          "height": 204
        },
        "outputId": "d8618eb7-4aea-4fc9-dc86-8b23459b268b"
      },
      "source": [
        "df.head()"
      ],
      "execution_count": 225,
      "outputs": [
        {
          "output_type": "execute_result",
          "data": {
            "text/html": [
              "<div>\n",
              "<style scoped>\n",
              "    .dataframe tbody tr th:only-of-type {\n",
              "        vertical-align: middle;\n",
              "    }\n",
              "\n",
              "    .dataframe tbody tr th {\n",
              "        vertical-align: top;\n",
              "    }\n",
              "\n",
              "    .dataframe thead th {\n",
              "        text-align: right;\n",
              "    }\n",
              "</style>\n",
              "<table border=\"1\" class=\"dataframe\">\n",
              "  <thead>\n",
              "    <tr style=\"text-align: right;\">\n",
              "      <th></th>\n",
              "      <th>Date</th>\n",
              "      <th>High</th>\n",
              "      <th>Low</th>\n",
              "    </tr>\n",
              "  </thead>\n",
              "  <tbody>\n",
              "    <tr>\n",
              "      <th>0</th>\n",
              "      <td>02-12-2019</td>\n",
              "      <td>24.420000</td>\n",
              "      <td>23.889999</td>\n",
              "    </tr>\n",
              "    <tr>\n",
              "      <th>1</th>\n",
              "      <td>03-12-2019</td>\n",
              "      <td>25.690001</td>\n",
              "      <td>24.530001</td>\n",
              "    </tr>\n",
              "    <tr>\n",
              "      <th>2</th>\n",
              "      <td>04-12-2019</td>\n",
              "      <td>26.889999</td>\n",
              "      <td>25.530001</td>\n",
              "    </tr>\n",
              "    <tr>\n",
              "      <th>3</th>\n",
              "      <td>05-12-2019</td>\n",
              "      <td>26.660000</td>\n",
              "      <td>25.889999</td>\n",
              "    </tr>\n",
              "    <tr>\n",
              "      <th>4</th>\n",
              "      <td>06-12-2019</td>\n",
              "      <td>26.709999</td>\n",
              "      <td>25.940001</td>\n",
              "    </tr>\n",
              "  </tbody>\n",
              "</table>\n",
              "</div>"
            ],
            "text/plain": [
              "         Date       High        Low\n",
              "0  02-12-2019  24.420000  23.889999\n",
              "1  03-12-2019  25.690001  24.530001\n",
              "2  04-12-2019  26.889999  25.530001\n",
              "3  05-12-2019  26.660000  25.889999\n",
              "4  06-12-2019  26.709999  25.940001"
            ]
          },
          "metadata": {
            "tags": []
          },
          "execution_count": 225
        }
      ]
    },
    {
      "cell_type": "code",
      "metadata": {
        "id": "99Dg_jI1KApl",
        "colab_type": "code",
        "colab": {
          "base_uri": "https://localhost:8080/",
          "height": 34
        },
        "outputId": "3535cb58-5e17-4ff1-b374-c3bbe08f500e"
      },
      "source": [
        "df.shape"
      ],
      "execution_count": 226,
      "outputs": [
        {
          "output_type": "execute_result",
          "data": {
            "text/plain": [
              "(100, 3)"
            ]
          },
          "metadata": {
            "tags": []
          },
          "execution_count": 226
        }
      ]
    },
    {
      "cell_type": "code",
      "metadata": {
        "id": "yQqXClngKApp",
        "colab_type": "code",
        "colab": {}
      },
      "source": [
        "import datetime"
      ],
      "execution_count": 0,
      "outputs": []
    },
    {
      "cell_type": "code",
      "metadata": {
        "id": "J4zNlaTWKApt",
        "colab_type": "code",
        "colab": {
          "base_uri": "https://localhost:8080/",
          "height": 1000
        },
        "outputId": "6a626672-9011-4511-dec0-db8682767c1a"
      },
      "source": [
        "li= []\n",
        "for i in range(0, 100):\n",
        "    l =df['Date'][i].split('-')\n",
        "    d = ' '\n",
        "    d = d.join(l)\n",
        "    d = datetime.datetime.strptime(d, '%d %m %Y').strftime('%m-%d-%Y')\n",
        "    date_object = datetime.datetime.strptime(d, '%m-%d-%Y').date()\n",
        "    date_object\n",
        "    li.append(date_object)\n",
        "li"
      ],
      "execution_count": 228,
      "outputs": [
        {
          "output_type": "execute_result",
          "data": {
            "text/plain": [
              "[datetime.date(2019, 12, 2),\n",
              " datetime.date(2019, 12, 3),\n",
              " datetime.date(2019, 12, 4),\n",
              " datetime.date(2019, 12, 5),\n",
              " datetime.date(2019, 12, 6),\n",
              " datetime.date(2019, 12, 9),\n",
              " datetime.date(2019, 12, 10),\n",
              " datetime.date(2019, 12, 11),\n",
              " datetime.date(2019, 12, 12),\n",
              " datetime.date(2019, 12, 13),\n",
              " datetime.date(2019, 12, 16),\n",
              " datetime.date(2019, 12, 17),\n",
              " datetime.date(2019, 12, 18),\n",
              " datetime.date(2019, 12, 19),\n",
              " datetime.date(2019, 12, 20),\n",
              " datetime.date(2019, 12, 23),\n",
              " datetime.date(2019, 12, 24),\n",
              " datetime.date(2019, 12, 26),\n",
              " datetime.date(2019, 12, 27),\n",
              " datetime.date(2019, 12, 30),\n",
              " datetime.date(2019, 12, 31),\n",
              " datetime.date(2020, 1, 2),\n",
              " datetime.date(2020, 1, 3),\n",
              " datetime.date(2020, 1, 6),\n",
              " datetime.date(2020, 1, 7),\n",
              " datetime.date(2020, 1, 8),\n",
              " datetime.date(2020, 1, 9),\n",
              " datetime.date(2020, 1, 10),\n",
              " datetime.date(2020, 1, 13),\n",
              " datetime.date(2020, 1, 14),\n",
              " datetime.date(2020, 1, 15),\n",
              " datetime.date(2020, 1, 16),\n",
              " datetime.date(2020, 1, 17),\n",
              " datetime.date(2020, 1, 21),\n",
              " datetime.date(2020, 1, 22),\n",
              " datetime.date(2020, 1, 23),\n",
              " datetime.date(2020, 1, 24),\n",
              " datetime.date(2020, 1, 27),\n",
              " datetime.date(2020, 1, 28),\n",
              " datetime.date(2020, 1, 29),\n",
              " datetime.date(2020, 1, 30),\n",
              " datetime.date(2020, 1, 31),\n",
              " datetime.date(2020, 2, 3),\n",
              " datetime.date(2020, 2, 4),\n",
              " datetime.date(2020, 2, 5),\n",
              " datetime.date(2020, 2, 6),\n",
              " datetime.date(2020, 2, 7),\n",
              " datetime.date(2020, 2, 10),\n",
              " datetime.date(2020, 2, 11),\n",
              " datetime.date(2020, 2, 12),\n",
              " datetime.date(2020, 2, 13),\n",
              " datetime.date(2020, 2, 14),\n",
              " datetime.date(2020, 2, 18),\n",
              " datetime.date(2020, 2, 19),\n",
              " datetime.date(2020, 2, 20),\n",
              " datetime.date(2020, 2, 21),\n",
              " datetime.date(2020, 2, 24),\n",
              " datetime.date(2020, 2, 25),\n",
              " datetime.date(2020, 2, 26),\n",
              " datetime.date(2020, 2, 27),\n",
              " datetime.date(2020, 2, 28),\n",
              " datetime.date(2020, 3, 2),\n",
              " datetime.date(2020, 3, 3),\n",
              " datetime.date(2020, 3, 4),\n",
              " datetime.date(2020, 3, 5),\n",
              " datetime.date(2020, 3, 6),\n",
              " datetime.date(2020, 3, 9),\n",
              " datetime.date(2020, 3, 10),\n",
              " datetime.date(2020, 3, 11),\n",
              " datetime.date(2020, 3, 12),\n",
              " datetime.date(2020, 3, 13),\n",
              " datetime.date(2020, 3, 16),\n",
              " datetime.date(2020, 3, 17),\n",
              " datetime.date(2020, 3, 18),\n",
              " datetime.date(2020, 3, 19),\n",
              " datetime.date(2020, 3, 20),\n",
              " datetime.date(2020, 3, 23),\n",
              " datetime.date(2020, 3, 24),\n",
              " datetime.date(2020, 3, 25),\n",
              " datetime.date(2020, 3, 26),\n",
              " datetime.date(2020, 3, 27),\n",
              " datetime.date(2020, 3, 30),\n",
              " datetime.date(2020, 3, 31),\n",
              " datetime.date(2020, 4, 1),\n",
              " datetime.date(2020, 4, 2),\n",
              " datetime.date(2020, 4, 3),\n",
              " datetime.date(2020, 4, 6),\n",
              " datetime.date(2020, 4, 7),\n",
              " datetime.date(2020, 4, 8),\n",
              " datetime.date(2020, 4, 9),\n",
              " datetime.date(2020, 4, 13),\n",
              " datetime.date(2020, 4, 14),\n",
              " datetime.date(2020, 4, 15),\n",
              " datetime.date(2020, 4, 16),\n",
              " datetime.date(2020, 4, 17),\n",
              " datetime.date(2020, 4, 20),\n",
              " datetime.date(2020, 4, 21),\n",
              " datetime.date(2020, 4, 22),\n",
              " datetime.date(2020, 4, 23),\n",
              " datetime.date(2020, 4, 24)]"
            ]
          },
          "metadata": {
            "tags": []
          },
          "execution_count": 228
        }
      ]
    },
    {
      "cell_type": "code",
      "metadata": {
        "scrolled": false,
        "id": "sDZsG6L5KApx",
        "colab_type": "code",
        "colab": {
          "base_uri": "https://localhost:8080/",
          "height": 419
        },
        "outputId": "bc890622-dbb3-4c49-ade1-1112b971f311"
      },
      "source": [
        "df['Date']=li\n",
        "df"
      ],
      "execution_count": 229,
      "outputs": [
        {
          "output_type": "execute_result",
          "data": {
            "text/html": [
              "<div>\n",
              "<style scoped>\n",
              "    .dataframe tbody tr th:only-of-type {\n",
              "        vertical-align: middle;\n",
              "    }\n",
              "\n",
              "    .dataframe tbody tr th {\n",
              "        vertical-align: top;\n",
              "    }\n",
              "\n",
              "    .dataframe thead th {\n",
              "        text-align: right;\n",
              "    }\n",
              "</style>\n",
              "<table border=\"1\" class=\"dataframe\">\n",
              "  <thead>\n",
              "    <tr style=\"text-align: right;\">\n",
              "      <th></th>\n",
              "      <th>Date</th>\n",
              "      <th>High</th>\n",
              "      <th>Low</th>\n",
              "    </tr>\n",
              "  </thead>\n",
              "  <tbody>\n",
              "    <tr>\n",
              "      <th>0</th>\n",
              "      <td>2019-12-02</td>\n",
              "      <td>24.420000</td>\n",
              "      <td>23.889999</td>\n",
              "    </tr>\n",
              "    <tr>\n",
              "      <th>1</th>\n",
              "      <td>2019-12-03</td>\n",
              "      <td>25.690001</td>\n",
              "      <td>24.530001</td>\n",
              "    </tr>\n",
              "    <tr>\n",
              "      <th>2</th>\n",
              "      <td>2019-12-04</td>\n",
              "      <td>26.889999</td>\n",
              "      <td>25.530001</td>\n",
              "    </tr>\n",
              "    <tr>\n",
              "      <th>3</th>\n",
              "      <td>2019-12-05</td>\n",
              "      <td>26.660000</td>\n",
              "      <td>25.889999</td>\n",
              "    </tr>\n",
              "    <tr>\n",
              "      <th>4</th>\n",
              "      <td>2019-12-06</td>\n",
              "      <td>26.709999</td>\n",
              "      <td>25.940001</td>\n",
              "    </tr>\n",
              "    <tr>\n",
              "      <th>...</th>\n",
              "      <td>...</td>\n",
              "      <td>...</td>\n",
              "      <td>...</td>\n",
              "    </tr>\n",
              "    <tr>\n",
              "      <th>95</th>\n",
              "      <td>2020-04-20</td>\n",
              "      <td>15.410000</td>\n",
              "      <td>14.430000</td>\n",
              "    </tr>\n",
              "    <tr>\n",
              "      <th>96</th>\n",
              "      <td>2020-04-21</td>\n",
              "      <td>15.100000</td>\n",
              "      <td>14.340000</td>\n",
              "    </tr>\n",
              "    <tr>\n",
              "      <th>97</th>\n",
              "      <td>2020-04-22</td>\n",
              "      <td>15.080000</td>\n",
              "      <td>14.620000</td>\n",
              "    </tr>\n",
              "    <tr>\n",
              "      <th>98</th>\n",
              "      <td>2020-04-23</td>\n",
              "      <td>15.220000</td>\n",
              "      <td>14.750000</td>\n",
              "    </tr>\n",
              "    <tr>\n",
              "      <th>99</th>\n",
              "      <td>2020-04-24</td>\n",
              "      <td>15.160000</td>\n",
              "      <td>14.680000</td>\n",
              "    </tr>\n",
              "  </tbody>\n",
              "</table>\n",
              "<p>100 rows × 3 columns</p>\n",
              "</div>"
            ],
            "text/plain": [
              "          Date       High        Low\n",
              "0   2019-12-02  24.420000  23.889999\n",
              "1   2019-12-03  25.690001  24.530001\n",
              "2   2019-12-04  26.889999  25.530001\n",
              "3   2019-12-05  26.660000  25.889999\n",
              "4   2019-12-06  26.709999  25.940001\n",
              "..         ...        ...        ...\n",
              "95  2020-04-20  15.410000  14.430000\n",
              "96  2020-04-21  15.100000  14.340000\n",
              "97  2020-04-22  15.080000  14.620000\n",
              "98  2020-04-23  15.220000  14.750000\n",
              "99  2020-04-24  15.160000  14.680000\n",
              "\n",
              "[100 rows x 3 columns]"
            ]
          },
          "metadata": {
            "tags": []
          },
          "execution_count": 229
        }
      ]
    },
    {
      "cell_type": "code",
      "metadata": {
        "id": "X7O7-k8qKAp1",
        "colab_type": "code",
        "colab": {
          "base_uri": "https://localhost:8080/",
          "height": 450
        },
        "outputId": "6b349861-c46b-4114-e0ec-7180beb3660b"
      },
      "source": [
        "df.set_index('Date')"
      ],
      "execution_count": 230,
      "outputs": [
        {
          "output_type": "execute_result",
          "data": {
            "text/html": [
              "<div>\n",
              "<style scoped>\n",
              "    .dataframe tbody tr th:only-of-type {\n",
              "        vertical-align: middle;\n",
              "    }\n",
              "\n",
              "    .dataframe tbody tr th {\n",
              "        vertical-align: top;\n",
              "    }\n",
              "\n",
              "    .dataframe thead th {\n",
              "        text-align: right;\n",
              "    }\n",
              "</style>\n",
              "<table border=\"1\" class=\"dataframe\">\n",
              "  <thead>\n",
              "    <tr style=\"text-align: right;\">\n",
              "      <th></th>\n",
              "      <th>High</th>\n",
              "      <th>Low</th>\n",
              "    </tr>\n",
              "    <tr>\n",
              "      <th>Date</th>\n",
              "      <th></th>\n",
              "      <th></th>\n",
              "    </tr>\n",
              "  </thead>\n",
              "  <tbody>\n",
              "    <tr>\n",
              "      <th>2019-12-02</th>\n",
              "      <td>24.420000</td>\n",
              "      <td>23.889999</td>\n",
              "    </tr>\n",
              "    <tr>\n",
              "      <th>2019-12-03</th>\n",
              "      <td>25.690001</td>\n",
              "      <td>24.530001</td>\n",
              "    </tr>\n",
              "    <tr>\n",
              "      <th>2019-12-04</th>\n",
              "      <td>26.889999</td>\n",
              "      <td>25.530001</td>\n",
              "    </tr>\n",
              "    <tr>\n",
              "      <th>2019-12-05</th>\n",
              "      <td>26.660000</td>\n",
              "      <td>25.889999</td>\n",
              "    </tr>\n",
              "    <tr>\n",
              "      <th>2019-12-06</th>\n",
              "      <td>26.709999</td>\n",
              "      <td>25.940001</td>\n",
              "    </tr>\n",
              "    <tr>\n",
              "      <th>...</th>\n",
              "      <td>...</td>\n",
              "      <td>...</td>\n",
              "    </tr>\n",
              "    <tr>\n",
              "      <th>2020-04-20</th>\n",
              "      <td>15.410000</td>\n",
              "      <td>14.430000</td>\n",
              "    </tr>\n",
              "    <tr>\n",
              "      <th>2020-04-21</th>\n",
              "      <td>15.100000</td>\n",
              "      <td>14.340000</td>\n",
              "    </tr>\n",
              "    <tr>\n",
              "      <th>2020-04-22</th>\n",
              "      <td>15.080000</td>\n",
              "      <td>14.620000</td>\n",
              "    </tr>\n",
              "    <tr>\n",
              "      <th>2020-04-23</th>\n",
              "      <td>15.220000</td>\n",
              "      <td>14.750000</td>\n",
              "    </tr>\n",
              "    <tr>\n",
              "      <th>2020-04-24</th>\n",
              "      <td>15.160000</td>\n",
              "      <td>14.680000</td>\n",
              "    </tr>\n",
              "  </tbody>\n",
              "</table>\n",
              "<p>100 rows × 2 columns</p>\n",
              "</div>"
            ],
            "text/plain": [
              "                 High        Low\n",
              "Date                            \n",
              "2019-12-02  24.420000  23.889999\n",
              "2019-12-03  25.690001  24.530001\n",
              "2019-12-04  26.889999  25.530001\n",
              "2019-12-05  26.660000  25.889999\n",
              "2019-12-06  26.709999  25.940001\n",
              "...               ...        ...\n",
              "2020-04-20  15.410000  14.430000\n",
              "2020-04-21  15.100000  14.340000\n",
              "2020-04-22  15.080000  14.620000\n",
              "2020-04-23  15.220000  14.750000\n",
              "2020-04-24  15.160000  14.680000\n",
              "\n",
              "[100 rows x 2 columns]"
            ]
          },
          "metadata": {
            "tags": []
          },
          "execution_count": 230
        }
      ]
    },
    {
      "cell_type": "code",
      "metadata": {
        "id": "AfwokQ9ZKAp5",
        "colab_type": "code",
        "colab": {}
      },
      "source": [
        "df['new']= ((df['High']+df['Low'])/2)"
      ],
      "execution_count": 0,
      "outputs": []
    },
    {
      "cell_type": "code",
      "metadata": {
        "id": "CapY05jLKAp8",
        "colab_type": "code",
        "colab": {
          "base_uri": "https://localhost:8080/",
          "height": 204
        },
        "outputId": "f61b2340-f06c-450a-aad1-95b553a213ae"
      },
      "source": [
        "df.head()"
      ],
      "execution_count": 232,
      "outputs": [
        {
          "output_type": "execute_result",
          "data": {
            "text/html": [
              "<div>\n",
              "<style scoped>\n",
              "    .dataframe tbody tr th:only-of-type {\n",
              "        vertical-align: middle;\n",
              "    }\n",
              "\n",
              "    .dataframe tbody tr th {\n",
              "        vertical-align: top;\n",
              "    }\n",
              "\n",
              "    .dataframe thead th {\n",
              "        text-align: right;\n",
              "    }\n",
              "</style>\n",
              "<table border=\"1\" class=\"dataframe\">\n",
              "  <thead>\n",
              "    <tr style=\"text-align: right;\">\n",
              "      <th></th>\n",
              "      <th>Date</th>\n",
              "      <th>High</th>\n",
              "      <th>Low</th>\n",
              "      <th>new</th>\n",
              "    </tr>\n",
              "  </thead>\n",
              "  <tbody>\n",
              "    <tr>\n",
              "      <th>0</th>\n",
              "      <td>2019-12-02</td>\n",
              "      <td>24.420000</td>\n",
              "      <td>23.889999</td>\n",
              "      <td>24.155000</td>\n",
              "    </tr>\n",
              "    <tr>\n",
              "      <th>1</th>\n",
              "      <td>2019-12-03</td>\n",
              "      <td>25.690001</td>\n",
              "      <td>24.530001</td>\n",
              "      <td>25.110001</td>\n",
              "    </tr>\n",
              "    <tr>\n",
              "      <th>2</th>\n",
              "      <td>2019-12-04</td>\n",
              "      <td>26.889999</td>\n",
              "      <td>25.530001</td>\n",
              "      <td>26.210000</td>\n",
              "    </tr>\n",
              "    <tr>\n",
              "      <th>3</th>\n",
              "      <td>2019-12-05</td>\n",
              "      <td>26.660000</td>\n",
              "      <td>25.889999</td>\n",
              "      <td>26.274999</td>\n",
              "    </tr>\n",
              "    <tr>\n",
              "      <th>4</th>\n",
              "      <td>2019-12-06</td>\n",
              "      <td>26.709999</td>\n",
              "      <td>25.940001</td>\n",
              "      <td>26.325000</td>\n",
              "    </tr>\n",
              "  </tbody>\n",
              "</table>\n",
              "</div>"
            ],
            "text/plain": [
              "         Date       High        Low        new\n",
              "0  2019-12-02  24.420000  23.889999  24.155000\n",
              "1  2019-12-03  25.690001  24.530001  25.110001\n",
              "2  2019-12-04  26.889999  25.530001  26.210000\n",
              "3  2019-12-05  26.660000  25.889999  26.274999\n",
              "4  2019-12-06  26.709999  25.940001  26.325000"
            ]
          },
          "metadata": {
            "tags": []
          },
          "execution_count": 232
        }
      ]
    },
    {
      "cell_type": "code",
      "metadata": {
        "id": "TvJmMXu9KAqA",
        "colab_type": "code",
        "colab": {}
      },
      "source": [
        "df.drop('High',axis=1,inplace=True)"
      ],
      "execution_count": 0,
      "outputs": []
    },
    {
      "cell_type": "code",
      "metadata": {
        "id": "R0QqsdtDKAqD",
        "colab_type": "code",
        "colab": {}
      },
      "source": [
        "df.drop('Low',axis=1,inplace=True)"
      ],
      "execution_count": 0,
      "outputs": []
    },
    {
      "cell_type": "code",
      "metadata": {
        "id": "9QltQhEXKAqH",
        "colab_type": "code",
        "colab": {}
      },
      "source": [
        "df=df.set_index('Date')"
      ],
      "execution_count": 0,
      "outputs": []
    },
    {
      "cell_type": "code",
      "metadata": {
        "id": "liMI2Kk5KAqL",
        "colab_type": "code",
        "colab": {
          "base_uri": "https://localhost:8080/",
          "height": 296
        },
        "outputId": "527eb453-4cca-4ac0-f6c8-d63bfa059a25"
      },
      "source": [
        "df.plot()"
      ],
      "execution_count": 236,
      "outputs": [
        {
          "output_type": "execute_result",
          "data": {
            "text/plain": [
              "<matplotlib.axes._subplots.AxesSubplot at 0x7f82151bd470>"
            ]
          },
          "metadata": {
            "tags": []
          },
          "execution_count": 236
        },
        {
          "output_type": "display_data",
          "data": {
            "image/png": "[encoded data removed]",
            "text/plain": [
              "<Figure size 432x288 with 1 Axes>"
            ]
          },
          "metadata": {
            "tags": [],
            "needs_background": "light"
          }
        }
      ]
    },
    {
      "cell_type": "code",
      "metadata": {
        "id": "5GKfmcOyKAsK",
        "colab_type": "code",
        "colab": {
          "base_uri": "https://localhost:8080/",
          "height": 450
        },
        "outputId": "6aaf7d1b-b7d9-409f-de71-63d3c00b84a3"
      },
      "source": [
        "# a variable for predicting 'n' days out in the future\n",
        "forecast_out = 15\n",
        "# Create one more column shifted 'n' units up\n",
        "df['Prediction'] = df[['new']].shift(-forecast_out)\n",
        "df"
      ],
      "execution_count": 373,
      "outputs": [
        {
          "output_type": "execute_result",
          "data": {
            "text/html": [
              "<div>\n",
              "<style scoped>\n",
              "    .dataframe tbody tr th:only-of-type {\n",
              "        vertical-align: middle;\n",
              "    }\n",
              "\n",
              "    .dataframe tbody tr th {\n",
              "        vertical-align: top;\n",
              "    }\n",
              "\n",
              "    .dataframe thead th {\n",
              "        text-align: right;\n",
              "    }\n",
              "</style>\n",
              "<table border=\"1\" class=\"dataframe\">\n",
              "  <thead>\n",
              "    <tr style=\"text-align: right;\">\n",
              "      <th></th>\n",
              "      <th>new</th>\n",
              "      <th>Prediction</th>\n",
              "    </tr>\n",
              "    <tr>\n",
              "      <th>Date</th>\n",
              "      <th></th>\n",
              "      <th></th>\n",
              "    </tr>\n",
              "  </thead>\n",
              "  <tbody>\n",
              "    <tr>\n",
              "      <th>2019-12-02</th>\n",
              "      <td>24.155000</td>\n",
              "      <td>26.144999</td>\n",
              "    </tr>\n",
              "    <tr>\n",
              "      <th>2019-12-03</th>\n",
              "      <td>25.110001</td>\n",
              "      <td>26.184999</td>\n",
              "    </tr>\n",
              "    <tr>\n",
              "      <th>2019-12-04</th>\n",
              "      <td>26.210000</td>\n",
              "      <td>25.985000</td>\n",
              "    </tr>\n",
              "    <tr>\n",
              "      <th>2019-12-05</th>\n",
              "      <td>26.274999</td>\n",
              "      <td>25.710000</td>\n",
              "    </tr>\n",
              "    <tr>\n",
              "      <th>2019-12-06</th>\n",
              "      <td>26.325000</td>\n",
              "      <td>25.560000</td>\n",
              "    </tr>\n",
              "    <tr>\n",
              "      <th>...</th>\n",
              "      <td>...</td>\n",
              "      <td>...</td>\n",
              "    </tr>\n",
              "    <tr>\n",
              "      <th>2020-04-20</th>\n",
              "      <td>14.920000</td>\n",
              "      <td>NaN</td>\n",
              "    </tr>\n",
              "    <tr>\n",
              "      <th>2020-04-21</th>\n",
              "      <td>14.720000</td>\n",
              "      <td>NaN</td>\n",
              "    </tr>\n",
              "    <tr>\n",
              "      <th>2020-04-22</th>\n",
              "      <td>14.850000</td>\n",
              "      <td>NaN</td>\n",
              "    </tr>\n",
              "    <tr>\n",
              "      <th>2020-04-23</th>\n",
              "      <td>14.985000</td>\n",
              "      <td>NaN</td>\n",
              "    </tr>\n",
              "    <tr>\n",
              "      <th>2020-04-24</th>\n",
              "      <td>14.920000</td>\n",
              "      <td>NaN</td>\n",
              "    </tr>\n",
              "  </tbody>\n",
              "</table>\n",
              "<p>100 rows × 2 columns</p>\n",
              "</div>"
            ],
            "text/plain": [
              "                  new  Prediction\n",
              "Date                             \n",
              "2019-12-02  24.155000   26.144999\n",
              "2019-12-03  25.110001   26.184999\n",
              "2019-12-04  26.210000   25.985000\n",
              "2019-12-05  26.274999   25.710000\n",
              "2019-12-06  26.325000   25.560000\n",
              "...               ...         ...\n",
              "2020-04-20  14.920000         NaN\n",
              "2020-04-21  14.720000         NaN\n",
              "2020-04-22  14.850000         NaN\n",
              "2020-04-23  14.985000         NaN\n",
              "2020-04-24  14.920000         NaN\n",
              "\n",
              "[100 rows x 2 columns]"
            ]
          },
          "metadata": {
            "tags": []
          },
          "execution_count": 373
        }
      ]
    },
    {
      "cell_type": "code",
      "metadata": {
        "id": "KQe4PD1cAG4K",
        "colab_type": "code",
        "colab": {
          "base_uri": "https://localhost:8080/",
          "height": 1000
        },
        "outputId": "d531f1d5-563b-4845-d6a6-988c7b22255b"
      },
      "source": [
        "#Create the independent dataset(X)\n",
        "#Convert the dataframe to NUmpy array\n",
        "X = np.array(df.drop(['Prediction'], 1))\n",
        "#REmove the last 'n' rows\n",
        "X = X[:-forecast_out]\n",
        "print(X)"
      ],
      "execution_count": 374,
      "outputs": [
        {
          "output_type": "stream",
          "text": [
            "[[24.1549995]\n",
            " [25.110001 ]\n",
            " [26.21     ]\n",
            " [26.2749995]\n",
            " [26.325    ]\n",
            " [26.6449995]\n",
            " [27.035001 ]\n",
            " [27.315    ]\n",
            " [27.5699995]\n",
            " [27.995    ]\n",
            " [28.       ]\n",
            " [27.29     ]\n",
            " [27.185    ]\n",
            " [26.8899995]\n",
            " [26.5      ]\n",
            " [26.1449995]\n",
            " [26.1849995]\n",
            " [25.9849995]\n",
            " [25.71     ]\n",
            " [25.56     ]\n",
            " [25.72     ]\n",
            " [25.3100005]\n",
            " [25.255    ]\n",
            " [25.445    ]\n",
            " [25.6550005]\n",
            " [25.17     ]\n",
            " [25.2649995]\n",
            " [24.96     ]\n",
            " [25.125    ]\n",
            " [25.12     ]\n",
            " [25.4299995]\n",
            " [25.8800005]\n",
            " [25.7      ]\n",
            " [25.464999 ]\n",
            " [25.3000005]\n",
            " [24.535    ]\n",
            " [24.5      ]\n",
            " [24.3450005]\n",
            " [24.465    ]\n",
            " [24.339999 ]\n",
            " [24.045    ]\n",
            " [23.8050005]\n",
            " [23.9099995]\n",
            " [24.21     ]\n",
            " [24.25     ]\n",
            " [24.4799995]\n",
            " [24.085    ]\n",
            " [24.2049995]\n",
            " [24.665    ]\n",
            " [24.5399995]\n",
            " [24.5699995]\n",
            " [24.6350005]\n",
            " [24.615    ]\n",
            " [24.959999 ]\n",
            " [23.125    ]\n",
            " [21.675    ]\n",
            " [20.965    ]\n",
            " [20.445001 ]\n",
            " [20.775    ]\n",
            " [21.0699995]\n",
            " [20.8450005]\n",
            " [20.7299995]\n",
            " [19.865    ]\n",
            " [19.910001 ]\n",
            " [20.6800005]\n",
            " [20.5550005]\n",
            " [19.71     ]\n",
            " [19.0850005]\n",
            " [17.71     ]\n",
            " [16.6099995]\n",
            " [16.355    ]\n",
            " [15.005    ]\n",
            " [15.09     ]\n",
            " [15.795    ]\n",
            " [16.53     ]\n",
            " [16.04     ]\n",
            " [15.365    ]\n",
            " [14.53     ]\n",
            " [15.125    ]\n",
            " [14.705    ]\n",
            " [14.675    ]\n",
            " [16.945    ]\n",
            " [16.935    ]\n",
            " [15.8699995]\n",
            " [15.245    ]]\n"
          ],
          "name": "stdout"
        }
      ]
    },
    {
      "cell_type": "code",
      "metadata": {
        "id": "qOV-7dEvAREW",
        "colab_type": "code",
        "colab": {
          "base_uri": "https://localhost:8080/",
          "height": 272
        },
        "outputId": "639d9bc1-cdc2-45bd-e0fa-066f8bbbaa59"
      },
      "source": [
        "#Create the dependent dataset(y)\n",
        "# Convert dataframe to numpy array (All of the values including NaN)\n",
        "y = np.array(df['Prediction'])\n",
        "\n",
        "#Get all of the y values except the last n rows\n",
        "y = y[:-forecast_out]\n",
        "print(y)"
      ],
      "execution_count": 376,
      "outputs": [
        {
          "output_type": "stream",
          "text": [
            "[26.1449995 26.1849995 25.9849995 25.71      25.56      25.72\n",
            " 25.3100005 25.255     25.445     25.6550005 25.17      25.2649995\n",
            " 24.96      25.125     25.12      25.4299995 25.8800005 25.7\n",
            " 25.464999  25.3000005 24.535     24.5       24.3450005 24.465\n",
            " 24.339999  24.045     23.8050005 23.9099995 24.21      24.25\n",
            " 24.4799995 24.085     24.2049995 24.665     24.5399995 24.5699995\n",
            " 24.6350005 24.615     24.959999  23.125     21.675     20.965\n",
            " 20.445001  20.775     21.0699995 20.8450005 20.7299995 19.865\n",
            " 19.910001  20.6800005 20.5550005 19.71      19.0850005 17.71\n",
            " 16.6099995 16.355     15.005     15.09      15.795     16.53\n",
            " 16.04      15.365     14.53      15.125     14.705     14.675\n",
            " 16.945     16.935     15.8699995 15.245     14.515     14.26\n",
            " 14.785     15.04      15.57      15.395     15.445     14.82\n",
            " 14.065     14.585     14.92      14.72      14.85      14.985\n",
            " 14.92     ]\n"
          ],
          "name": "stdout"
        }
      ]
    },
    {
      "cell_type": "code",
      "metadata": {
        "id": "q42KyO7EAVFP",
        "colab_type": "code",
        "colab": {}
      },
      "source": [
        "from sklearn.linear_model import LinearRegression\n",
        "from sklearn.svm import SVR\n",
        "from sklearn.preprocessing import PolynomialFeatures\n",
        "from sklearn.model_selection import train_test_split"
      ],
      "execution_count": 0,
      "outputs": []
    },
    {
      "cell_type": "code",
      "metadata": {
        "id": "BnKb-pfNAjMw",
        "colab_type": "code",
        "colab": {}
      },
      "source": [
        "# Split the data\n",
        "x_train, x_test, y_train, y_test = train_test_split(X, y, test_size = 0.2)"
      ],
      "execution_count": 0,
      "outputs": []
    },
    {
      "cell_type": "code",
      "metadata": {
        "id": "YEnOSGftAbpz",
        "colab_type": "code",
        "colab": {
          "base_uri": "https://localhost:8080/",
          "height": 34
        },
        "outputId": "55000191-4462-4231-db42-53a9a1023db2"
      },
      "source": [
        "#Create and train the Polynomial REgression Model\n",
        "poly_reg = PolynomialFeatures(degree = 3)\n",
        "X_poly = poly_reg.fit_transform(x_train)\n",
        "poly_reg.fit(X_poly, y_train)\n",
        "lin_reg_2 = LinearRegression()\n",
        "lin_reg_2.fit(X_poly, y_train)\n",
        "#plt.scatter(X, y, color = 'red')\n",
        "#plt.plot(X, lin_reg_2.predict(poly_reg.fit_transform(X)), color = 'blue')\n",
        "#plt.title('Truth or Bluff (Polynomial Regression)')\n",
        "#plt.xlabel('Position level')\n",
        "#plt.ylabel('Salary')\n",
        "#plt.show()"
      ],
      "execution_count": 380,
      "outputs": [
        {
          "output_type": "execute_result",
          "data": {
            "text/plain": [
              "LinearRegression(copy_X=True, fit_intercept=True, n_jobs=None, normalize=False)"
            ]
          },
          "metadata": {
            "tags": []
          },
          "execution_count": 380
        }
      ]
    },
    {
      "cell_type": "code",
      "metadata": {
        "id": "wNMZpGoYAe_S",
        "colab_type": "code",
        "colab": {
          "base_uri": "https://localhost:8080/",
          "height": 34
        },
        "outputId": "29a2ceab-d1cc-4768-bed0-64f8db4b2da0"
      },
      "source": [
        "#Testing Model\n",
        "pr_confidence = lin_reg_2.score(poly_reg.fit_transform(x_test), y_test)\n",
        "print(pr_confidence)"
      ],
      "execution_count": 381,
      "outputs": [
        {
          "output_type": "stream",
          "text": [
            "0.9320567594179572\n"
          ],
          "name": "stdout"
        }
      ]
    },
    {
      "cell_type": "code",
      "metadata": {
        "id": "tVQbJOQ5BL9D",
        "colab_type": "code",
        "colab": {}
      },
      "source": [
        "predictionss = lin_reg_2.predict(poly_reg.fit_transform(x_test))"
      ],
      "execution_count": 0,
      "outputs": []
    },
    {
      "cell_type": "code",
      "metadata": {
        "id": "IUI1CRuQBMAj",
        "colab_type": "code",
        "colab": {
          "base_uri": "https://localhost:8080/",
          "height": 265
        },
        "outputId": "3ead8241-b357-459f-c544-78e90165394b"
      },
      "source": [
        "plt.plot(y_test)\n",
        "plt.plot(predictionss)\n",
        "plt.show()"
      ],
      "execution_count": 388,
      "outputs": [
        {
          "output_type": "display_data",
          "data": {
            "image/png": "[encoded data removed]",
            "text/plain": [
              "<Figure size 432x288 with 1 Axes>"
            ]
          },
          "metadata": {
            "tags": [],
            "needs_background": "light"
          }
        }
      ]
    },
    {
      "cell_type": "code",
      "metadata": {
        "id": "Yigq0YPTAnyk",
        "colab_type": "code",
        "colab": {
          "base_uri": "https://localhost:8080/",
          "height": 272
        },
        "outputId": "0c105bf6-dc3e-47aa-d33c-a3c24144c00b"
      },
      "source": [
        "# set x_forecast equal to the last 10 rows of the original dataset\n",
        "x_forecast = np.array(df.drop(['Prediction'], 1))[-forecast_out:]\n",
        "print(x_forecast)"
      ],
      "execution_count": 382,
      "outputs": [
        {
          "output_type": "stream",
          "text": [
            "[[14.515]\n",
            " [14.26 ]\n",
            " [14.785]\n",
            " [15.04 ]\n",
            " [15.57 ]\n",
            " [15.395]\n",
            " [15.445]\n",
            " [14.82 ]\n",
            " [14.065]\n",
            " [14.585]\n",
            " [14.92 ]\n",
            " [14.72 ]\n",
            " [14.85 ]\n",
            " [14.985]\n",
            " [14.92 ]]\n"
          ],
          "name": "stdout"
        }
      ]
    },
    {
      "cell_type": "code",
      "metadata": {
        "id": "NQLv_CbPAsos",
        "colab_type": "code",
        "colab": {
          "base_uri": "https://localhost:8080/",
          "height": 68
        },
        "outputId": "f0245900-8cfc-4482-e2a0-98770793deea"
      },
      "source": [
        "# Print the predictions for the next n days\n",
        "lr_prediction = lin_reg_2.predict(poly_reg.fit_transform(x_forecast))\n",
        "print(lr_prediction)"
      ],
      "execution_count": 383,
      "outputs": [
        {
          "output_type": "stream",
          "text": [
            "[16.04417359 16.53333905 15.5817252  15.1958355  14.5453927  14.73808356\n",
            " 14.68084528 15.52586893 16.94269134 15.91886609 15.37137216 15.68792946\n",
            " 15.47872973 15.27496337 15.37137216]\n"
          ],
          "name": "stdout"
        }
      ]
    },
    {
      "cell_type": "code",
      "metadata": {
        "id": "gfY_UxazAyKZ",
        "colab_type": "code",
        "colab": {
          "base_uri": "https://localhost:8080/",
          "height": 282
        },
        "outputId": "8fe4d2c6-96cc-4bab-b470-38eff1ddef07"
      },
      "source": [
        "plt.plot(lr_prediction)"
      ],
      "execution_count": 384,
      "outputs": [
        {
          "output_type": "execute_result",
          "data": {
            "text/plain": [
              "[<matplotlib.lines.Line2D at 0x7f8209e480f0>]"
            ]
          },
          "metadata": {
            "tags": []
          },
          "execution_count": 384
        },
        {
          "output_type": "display_data",
          "data": {
            "image/png": "[encoded data removed]",
            "text/plain": [
              "<Figure size 432x288 with 1 Axes>"
            ]
          },
          "metadata": {
            "tags": [],
            "needs_background": "light"
          }
        }
      ]
    },
    {
      "cell_type": "code",
      "metadata": {
        "id": "r8UdmtHkBAnK",
        "colab_type": "code",
        "colab": {
          "base_uri": "https://localhost:8080/",
          "height": 102
        },
        "outputId": "dc1be157-3645-43be-f473-72f9574c0e29"
      },
      "source": [
        "forecast_index = pd.date_range(start='2020-04-25',periods=15)\n",
        "forecast_index"
      ],
      "execution_count": 391,
      "outputs": [
        {
          "output_type": "execute_result",
          "data": {
            "text/plain": [
              "DatetimeIndex(['2020-04-25', '2020-04-26', '2020-04-27', '2020-04-28',\n",
              "               '2020-04-29', '2020-04-30', '2020-05-01', '2020-05-02',\n",
              "               '2020-05-03', '2020-05-04', '2020-05-05', '2020-05-06',\n",
              "               '2020-05-07', '2020-05-08', '2020-05-09'],\n",
              "              dtype='datetime64[ns]', freq='D')"
            ]
          },
          "metadata": {
            "tags": []
          },
          "execution_count": 391
        }
      ]
    },
    {
      "cell_type": "code",
      "metadata": {
        "id": "LZMDu2qACX6_",
        "colab_type": "code",
        "colab": {}
      },
      "source": [
        "forecast_df = pd.DataFrame(data=lr_prediction,index=forecast_index,\n",
        "                           columns=['Forecast'])"
      ],
      "execution_count": 0,
      "outputs": []
    },
    {
      "cell_type": "code",
      "metadata": {
        "id": "HdoWtw8tCwQy",
        "colab_type": "code",
        "colab": {
          "base_uri": "https://localhost:8080/",
          "height": 514
        },
        "outputId": "f48e1cbe-57f2-45f4-cf8b-187511b5487a"
      },
      "source": [
        "forecast_df"
      ],
      "execution_count": 393,
      "outputs": [
        {
          "output_type": "execute_result",
          "data": {
            "text/html": [
              "<div>\n",
              "<style scoped>\n",
              "    .dataframe tbody tr th:only-of-type {\n",
              "        vertical-align: middle;\n",
              "    }\n",
              "\n",
              "    .dataframe tbody tr th {\n",
              "        vertical-align: top;\n",
              "    }\n",
              "\n",
              "    .dataframe thead th {\n",
              "        text-align: right;\n",
              "    }\n",
              "</style>\n",
              "<table border=\"1\" class=\"dataframe\">\n",
              "  <thead>\n",
              "    <tr style=\"text-align: right;\">\n",
              "      <th></th>\n",
              "      <th>Forecast</th>\n",
              "    </tr>\n",
              "  </thead>\n",
              "  <tbody>\n",
              "    <tr>\n",
              "      <th>2020-04-25</th>\n",
              "      <td>16.044174</td>\n",
              "    </tr>\n",
              "    <tr>\n",
              "      <th>2020-04-26</th>\n",
              "      <td>16.533339</td>\n",
              "    </tr>\n",
              "    <tr>\n",
              "      <th>2020-04-27</th>\n",
              "      <td>15.581725</td>\n",
              "    </tr>\n",
              "    <tr>\n",
              "      <th>2020-04-28</th>\n",
              "      <td>15.195835</td>\n",
              "    </tr>\n",
              "    <tr>\n",
              "      <th>2020-04-29</th>\n",
              "      <td>14.545393</td>\n",
              "    </tr>\n",
              "    <tr>\n",
              "      <th>2020-04-30</th>\n",
              "      <td>14.738084</td>\n",
              "    </tr>\n",
              "    <tr>\n",
              "      <th>2020-05-01</th>\n",
              "      <td>14.680845</td>\n",
              "    </tr>\n",
              "    <tr>\n",
              "      <th>2020-05-02</th>\n",
              "      <td>15.525869</td>\n",
              "    </tr>\n",
              "    <tr>\n",
              "      <th>2020-05-03</th>\n",
              "      <td>16.942691</td>\n",
              "    </tr>\n",
              "    <tr>\n",
              "      <th>2020-05-04</th>\n",
              "      <td>15.918866</td>\n",
              "    </tr>\n",
              "    <tr>\n",
              "      <th>2020-05-05</th>\n",
              "      <td>15.371372</td>\n",
              "    </tr>\n",
              "    <tr>\n",
              "      <th>2020-05-06</th>\n",
              "      <td>15.687929</td>\n",
              "    </tr>\n",
              "    <tr>\n",
              "      <th>2020-05-07</th>\n",
              "      <td>15.478730</td>\n",
              "    </tr>\n",
              "    <tr>\n",
              "      <th>2020-05-08</th>\n",
              "      <td>15.274963</td>\n",
              "    </tr>\n",
              "    <tr>\n",
              "      <th>2020-05-09</th>\n",
              "      <td>15.371372</td>\n",
              "    </tr>\n",
              "  </tbody>\n",
              "</table>\n",
              "</div>"
            ],
            "text/plain": [
              "             Forecast\n",
              "2020-04-25  16.044174\n",
              "2020-04-26  16.533339\n",
              "2020-04-27  15.581725\n",
              "2020-04-28  15.195835\n",
              "2020-04-29  14.545393\n",
              "2020-04-30  14.738084\n",
              "2020-05-01  14.680845\n",
              "2020-05-02  15.525869\n",
              "2020-05-03  16.942691\n",
              "2020-05-04  15.918866\n",
              "2020-05-05  15.371372\n",
              "2020-05-06  15.687929\n",
              "2020-05-07  15.478730\n",
              "2020-05-08  15.274963\n",
              "2020-05-09  15.371372"
            ]
          },
          "metadata": {
            "tags": []
          },
          "execution_count": 393
        }
      ]
    },
    {
      "cell_type": "code",
      "metadata": {
        "id": "6g4JrDp1DBIX",
        "colab_type": "code",
        "colab": {}
      },
      "source": [
        "df.drop('Prediction',axis=1,inplace=True)"
      ],
      "execution_count": 0,
      "outputs": []
    },
    {
      "cell_type": "code",
      "metadata": {
        "id": "TFRoaFfOCxmt",
        "colab_type": "code",
        "colab": {
          "base_uri": "https://localhost:8080/",
          "height": 568
        },
        "outputId": "207083e4-2312-4b92-c428-85420daf82d5"
      },
      "source": [
        "df.plot()\n",
        "forecast_df.plot()"
      ],
      "execution_count": 398,
      "outputs": [
        {
          "output_type": "execute_result",
          "data": {
            "text/plain": [
              "<matplotlib.axes._subplots.AxesSubplot at 0x7f8209967438>"
            ]
          },
          "metadata": {
            "tags": []
          },
          "execution_count": 398
        },
        {
          "output_type": "display_data",
          "data": {
            "image/png": "[encoded data removed]",
            "text/plain": [
              "<Figure size 432x288 with 1 Axes>"
            ]
          },
          "metadata": {
            "tags": [],
            "needs_background": "light"
          }
        },
        {
          "output_type": "display_data",
          "data": {
            "image/png": "[encoded data removed]",
            "text/plain": [
              "<Figure size 432x288 with 1 Axes>"
            ]
          },
          "metadata": {
            "tags": [],
            "needs_background": "light"
          }
        }
      ]
    },
    {
      "cell_type": "code",
      "metadata": {
        "id": "3JiFFmq8C49w",
        "colab_type": "code",
        "colab": {
          "base_uri": "https://localhost:8080/",
          "height": 294
        },
        "outputId": "88bf89b7-5c24-4ed2-8dad-2576fbd9ae3d"
      },
      "source": [
        "ax = df.plot()\n",
        "forecast_df.plot(ax=ax)"
      ],
      "execution_count": 399,
      "outputs": [
        {
          "output_type": "execute_result",
          "data": {
            "text/plain": [
              "<matplotlib.axes._subplots.AxesSubplot at 0x7f8209905ef0>"
            ]
          },
          "metadata": {
            "tags": []
          },
          "execution_count": 399
        },
        {
          "output_type": "display_data",
          "data": {
            "image/png": "[encoded data removed]",
            "text/plain": [
              "<Figure size 432x288 with 1 Axes>"
            ]
          },
          "metadata": {
            "tags": [],
            "needs_background": "light"
          }
        }
      ]
    },
    {
      "cell_type": "code",
      "metadata": {
        "id": "7GrQZp2WDU5j",
        "colab_type": "code",
        "colab": {}
      },
      "source": [
        ""
      ],
      "execution_count": 0,
      "outputs": []
    }
  ]
}